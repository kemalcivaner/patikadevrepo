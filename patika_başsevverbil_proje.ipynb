{
  "nbformat": 4,
  "nbformat_minor": 0,
  "metadata": {
    "colab": {
      "provenance": []
    },
    "kernelspec": {
      "name": "python3",
      "display_name": "Python 3"
    },
    "language_info": {
      "name": "python"
    }
  },
  "cells": [
    {
      "cell_type": "markdown",
      "source": [
        "1- Bir listeyi düzleştiren (flatten) fonksiyon yazın. Elemanları birden çok katmanlı listelerden ([[3],2] gibi) oluşabileceği gibi, non-scalar verilerden de oluşabilir. Örnek olarak:\n",
        "\n",
        "input: [[1,'a',['cat'],2],[[[3]],'dog'],4,5]\n",
        "\n",
        "output: [1,'a','cat',2,3,'dog',4,5]\n"
      ],
      "metadata": {
        "id": "UTbmydBRgSut"
      }
    },
    {
      "cell_type": "code",
      "execution_count": 1,
      "metadata": {
        "id": "RKsly1YxgKS2"
      },
      "outputs": [],
      "source": [
        "l1 = [[1,'a',['cat'],2],[[[3]],'dog'],4,5]"
      ]
    },
    {
      "cell_type": "code",
      "source": [
        "def flatten (a,b):\n",
        "\n",
        "    for i in a:\n",
        "        if type(i) != type([]):\n",
        "            b.append(i)\n",
        "        elif type(i) == type([]):\n",
        "            flatten(i, b)\n",
        "    return b\n",
        "\n",
        "el = []"
      ],
      "metadata": {
        "id": "O7u_Ja2PyV6-"
      },
      "execution_count": 41,
      "outputs": []
    },
    {
      "cell_type": "code",
      "source": [
        "flatten(l1, el)"
      ],
      "metadata": {
        "colab": {
          "base_uri": "https://localhost:8080/"
        },
        "id": "6qpgCQwoyZ1K",
        "outputId": "2f1df19e-b090-4245-e894-841407e81baa"
      },
      "execution_count": 42,
      "outputs": [
        {
          "output_type": "execute_result",
          "data": {
            "text/plain": [
              "[1, 'a', 'cat', 2, 3, 'dog', 4, 5]"
            ]
          },
          "metadata": {},
          "execution_count": 42
        }
      ]
    },
    {
      "cell_type": "markdown",
      "source": [
        "2- Verilen listenin içindeki elemanları tersine döndüren bir fonksiyon yazın. Eğer listenin içindeki elemanlar da liste içeriyorsa onların elemanlarını da tersine döndürün. Örnek olarak:\n",
        "\n",
        "input: [[1, 2], [3, 4], [5, 6, 7]]\n",
        "\n",
        "output: [[[7, 6, 5], [4, 3], [2, 1]]"
      ],
      "metadata": {
        "id": "lz3pXArxiifG"
      }
    },
    {
      "cell_type": "code",
      "source": [
        "l2 = [[1, 2], [3, 4], [5, 6, 7]]"
      ],
      "metadata": {
        "id": "YM-VoiN8ijWf"
      },
      "execution_count": 18,
      "outputs": []
    },
    {
      "cell_type": "code",
      "source": [
        "l2_ = []\n",
        "for i in l2:\n",
        "    i.reverse()\n",
        "    j = i[::-1]\n",
        "    l2_.append(j)\n",
        "\n",
        "print(l2_)"
      ],
      "metadata": {
        "colab": {
          "base_uri": "https://localhost:8080/"
        },
        "id": "05D0NoCXt-eL",
        "outputId": "655a8bba-4cd5-4642-ef2e-7aacc0c19b73"
      },
      "execution_count": 37,
      "outputs": [
        {
          "output_type": "stream",
          "name": "stdout",
          "text": [
            "[[7, 6, 5], [3, 4], [1, 2]]\n"
          ]
        }
      ]
    },
    {
      "cell_type": "code",
      "source": [],
      "metadata": {
        "id": "3V0jZJgwwCmS"
      },
      "execution_count": null,
      "outputs": []
    }
  ]
}